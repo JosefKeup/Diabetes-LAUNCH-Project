{
 "cells": [
  {
   "cell_type": "code",
   "execution_count": 5,
   "metadata": {},
   "outputs": [
    {
     "name": "stdout",
     "output_type": "stream",
     "text": [
      "Successfully loaded CMS_Prev_2012.csv\n",
      "Successfully loaded CMS_Prev_2013.csv\n",
      "Successfully loaded CMS_Prev_2014.csv\n",
      "Successfully loaded CMS_Prev_2015.csv\n",
      "Successfully loaded CMS_Prev_2016.csv\n",
      "Successfully loaded CMS_Prev_2017.csv\n",
      "Successfully loaded CMS_Prev_2018.csv\n",
      "Successfully loaded CMS_Prev_2019.csv\n",
      "Successfully loaded CMS_Prev_2020.csv\n",
      "Successfully loaded CMS_Prev_2021.csv\n",
      "Successfully loaded CMS_Prev_2022.csv\n",
      "Successfully loaded CMS_Prev_2023.csv\n",
      "Combined CSV saved as CMS_Prev_Combined_2012_2023.csv\n"
     ]
    }
   ],
   "source": [
    "import pandas as pd\n",
    "\n",
    "# List to store individual DataFrames\n",
    "dfs = []\n",
    "\n",
    "# Loop through the years 2012 to 2023 to read each CSV file\n",
    "for year in range(2012, 2024):\n",
    "    # Construct the file path directly as a string\n",
    "    file_path = f\"CMS_Prev_{year}.csv\"\n",
    "    \n",
    "    try:\n",
    "        # Attempt to read the CSV file\n",
    "        df = pd.read_csv(file_path)\n",
    "        dfs.append(df)\n",
    "        print(f\"Successfully loaded {file_path}\")\n",
    "    except FileNotFoundError:\n",
    "        print(f\"File {file_path} not found\")\n",
    "    except Exception as e:\n",
    "        print(f\"Error loading {file_path}: {str(e)}\")\n",
    "\n",
    "# Combine all DataFrames into a single DataFrame\n",
    "if dfs:  # Check if the list is not empty\n",
    "    combined_df = pd.concat(dfs, ignore_index=True)\n",
    "    \n",
    "    # Save the combined DataFrame to a new CSV file\n",
    "    output_file = \"CMS_Prev_Combined_2012_2023.csv\"\n",
    "    combined_df.to_csv(output_file, index=False)\n",
    "    print(f\"Combined CSV saved as {output_file}\")\n",
    "else:\n",
    "    print(\"No files were loaded to combine\")"
   ]
  },
  {
   "cell_type": "code",
   "execution_count": null,
   "metadata": {},
   "outputs": [],
   "source": []
  }
 ],
 "metadata": {
  "kernelspec": {
   "display_name": "notebook",
   "language": "python",
   "name": "python3"
  },
  "language_info": {
   "codemirror_mode": {
    "name": "ipython",
    "version": 3
   },
   "file_extension": ".py",
   "mimetype": "text/x-python",
   "name": "python",
   "nbconvert_exporter": "python",
   "pygments_lexer": "ipython3",
   "version": "3.12.5"
  }
 },
 "nbformat": 4,
 "nbformat_minor": 2
}
